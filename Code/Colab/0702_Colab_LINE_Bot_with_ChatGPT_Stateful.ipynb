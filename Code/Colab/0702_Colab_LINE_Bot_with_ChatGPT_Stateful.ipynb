{
  "cells": [
    {
      "cell_type": "code",
      "execution_count": 13,
      "metadata": {
        "id": "9Ahw4x5hMkN_"
      },
      "outputs": [],
      "source": [
        "!pip install Flask pyngrok line-bot-sdk requests openai==1.55.3 --quiet"
      ]
    },
    {
      "cell_type": "code",
      "execution_count": 14,
      "metadata": {
        "colab": {
          "base_uri": "https://localhost:8080/"
        },
        "id": "9ngnvFgWMlli",
        "outputId": "46eef39e-72ac-4cf8-e6e1-627a1737fe10"
      },
      "outputs": [
        {
          "output_type": "stream",
          "name": "stdout",
          "text": [
            "A7zBgTh2cSHmikQcazvLABO7ekmfZF9YiCbUQXmLb28z9SvqXALcccT89bUbTRjVvaYxP1YzA0qd6ROqjUAWaLN7+YgDID02ym8SjJHTIYUIwvImLcoiEW6IdDTaa4gfe/so8mBNccKUaLwvfstHBQdB04t89/1O/w1cDnyilFU=\n",
            "====\n",
            "b2827db86b00e3a269a9932e9b3e03cb\n"
          ]
        }
      ],
      "source": [
        "from google.colab import userdata\n",
        "\n",
        "ngrok_authtoken = userdata.get('NGROK_AUTHTOKEN')\n",
        "line_channel_access_token = userdata.get('LINE_CHANNEL_ACCESS_TOKEN')\n",
        "line_channel_secret = userdata.get('LINE_CHANNEL_SECRET')\n",
        "openai_api_key = userdata.get('OPENAI_API_KEY')\n",
        "port = 5051\n",
        "print(line_channel_access_token)\n",
        "print(\"====\")\n",
        "print(line_channel_secret)"
      ]
    },
    {
      "cell_type": "code",
      "execution_count": 15,
      "metadata": {
        "id": "yQSj-lVgNMm3"
      },
      "outputs": [],
      "source": [
        "import os\n",
        "from pyngrok import ngrok"
      ]
    },
    {
      "cell_type": "code",
      "execution_count": 16,
      "metadata": {
        "id": "FcV0uqrTxC8R"
      },
      "outputs": [],
      "source": [
        "ngrok.kill()"
      ]
    },
    {
      "cell_type": "code",
      "execution_count": 17,
      "metadata": {
        "colab": {
          "base_uri": "https://localhost:8080/"
        },
        "id": "bFF8Q-4QNP2m",
        "outputId": "2311d0f6-d820-43d3-f81f-da21dc0f4ed5"
      },
      "outputs": [
        {
          "output_type": "stream",
          "name": "stdout",
          "text": [
            "https://afbc-35-231-160-9.ngrok-free.app\n"
          ]
        }
      ],
      "source": [
        "ngrok.set_auth_token(ngrok_authtoken)\n",
        "tunnel = ngrok.connect(port, name=\"linebot_tunnel\")\n",
        "print(tunnel.public_url)"
      ]
    },
    {
      "cell_type": "code",
      "execution_count": 18,
      "metadata": {
        "id": "wJY8NK_RMjEW"
      },
      "outputs": [],
      "source": [
        "from openai import OpenAI\n",
        "\n",
        "client = OpenAI(api_key=openai_api_key)\n",
        "def get_completion(prompt):\n",
        "    messages = [{\"role\": \"system\", \"content\": \"以下用繁體中文台灣用語回答\"},\n",
        "                {\"role\": \"user\", \"content\": prompt}]\n",
        "    response = client.chat.completions.create(\n",
        "        model=\"gpt-3.5-turbo\",\n",
        "        messages=messages,\n",
        "        temperature=0,\n",
        "        max_tokens=256\n",
        "\n",
        "    )\n",
        "    return response.choices[0].message.content"
      ]
    },
    {
      "cell_type": "code",
      "execution_count": 19,
      "metadata": {
        "colab": {
          "base_uri": "https://localhost:8080/"
        },
        "id": "f-oeubJyMjEW",
        "outputId": "d3b71e09-bb8e-4cd3-cd31-1b30d3b8125a"
      },
      "outputs": [
        {
          "output_type": "stream",
          "name": "stdout",
          "text": [
            "東吳大學是一所位於台灣台北市的知名私立大學，創立於1928年，是台灣歷史悠久的大學之一。東吳大學以人文學科為主，並擁有豐富的師資和研究資源。校園環境優美，教學設備完善，是許多學生夢寐以求的就讀學校之一。該校提供多元的學士、碩士和博士學位課程，並致力於培養學生的專業知識和實務能力。東吳大學也積極推動國際交流與合作，為學生提供豐富的國際學\n"
          ]
        }
      ],
      "source": [
        "result = get_completion(\"簡介東吳大學\")\n",
        "print(result)"
      ]
    },
    {
      "cell_type": "code",
      "execution_count": 20,
      "metadata": {
        "id": "VaXSJZGHUR2i"
      },
      "outputs": [],
      "source": [
        "messages = []"
      ]
    },
    {
      "cell_type": "code",
      "execution_count": 21,
      "metadata": {
        "colab": {
          "base_uri": "https://localhost:8080/"
        },
        "id": "jdG0_hVBMjEX",
        "outputId": "b0a4d53d-db73-4d68-abf8-a26ab8f5c514"
      },
      "outputs": [
        {
          "output_type": "stream",
          "name": "stdout",
          "text": [
            " * Serving Flask app '__main__'\n",
            " * Debug mode: off\n"
          ]
        },
        {
          "output_type": "stream",
          "name": "stderr",
          "text": [
            "INFO:werkzeug:\u001b[31m\u001b[1mWARNING: This is a development server. Do not use it in a production deployment. Use a production WSGI server instead.\u001b[0m\n",
            " * Running on http://127.0.0.1:5051\n",
            "INFO:werkzeug:\u001b[33mPress CTRL+C to quit\u001b[0m\n",
            "INFO:werkzeug:127.0.0.1 - - [24/Apr/2025 08:33:10] \"POST / HTTP/1.1\" 200 -\n"
          ]
        },
        {
          "output_type": "stream",
          "name": "stdout",
          "text": [
            "BODY:  {\"destination\":\"Uea24f2d2e9cbf584ac4b70aa6468c659\",\"events\":[]}\n"
          ]
        }
      ],
      "source": [
        "from flask import Flask, request, abort\n",
        "\n",
        "from linebot.v3 import (\n",
        "    WebhookHandler\n",
        ")\n",
        "from linebot.v3.exceptions import (\n",
        "    InvalidSignatureError\n",
        ")\n",
        "from linebot.v3.messaging import (\n",
        "    Configuration,\n",
        "    ApiClient,\n",
        "    MessagingApi,\n",
        "    ReplyMessageRequest,\n",
        "    TextMessage,\n",
        "    StickerMessage,\n",
        "    LocationMessage\n",
        ")\n",
        "from linebot.v3.webhooks import (\n",
        "    MessageEvent,\n",
        "    TextMessageContent,\n",
        "    StickerMessageContent,\n",
        "    LocationMessageContent\n",
        ")\n",
        "\n",
        "app = Flask(__name__)\n",
        "\n",
        "configuration = Configuration(access_token=line_channel_access_token)\n",
        "handler = WebhookHandler(line_channel_secret)\n",
        "\n",
        "\n",
        "@app.route(\"/\", methods=['POST'])\n",
        "def callback():\n",
        "    # get X-Line-Signature header value\n",
        "    signature = request.headers['X-Line-Signature']\n",
        "\n",
        "    # get request body as text\n",
        "    body = request.get_data(as_text=True)\n",
        "    print(\"BODY: \", body)\n",
        "    app.logger.info(\"Request body: \" + body)\n",
        "\n",
        "    # handle webhook body\n",
        "    try:\n",
        "        handler.handle(body, signature)\n",
        "    except InvalidSignatureError:\n",
        "        app.logger.info(\"Invalid signature. Please check your channel access token/channel secret.\")\n",
        "        abort(400)\n",
        "\n",
        "    return 'OK'\n",
        "\n",
        "\n",
        "@handler.add(MessageEvent, message=TextMessageContent)\n",
        "def handle_message(event):\n",
        "    text = event.message.text\n",
        "    with ApiClient(configuration) as api_client:\n",
        "        line_bot_api = MessagingApi(api_client)\n",
        "        if text.startswith('AI '):\n",
        "            prompt = text[3:]\n",
        "            messages.append(prompt)\n",
        "            prompts = \" \".join(messages)\n",
        "            reply_text = get_completion(prompts)\n",
        "            line_bot_api.reply_message_with_http_info(\n",
        "                ReplyMessageRequest(\n",
        "                    reply_token=event.reply_token,\n",
        "                    messages=[TextMessage(text=reply_text)]\n",
        "                )\n",
        "            )\n",
        "            messages.append(reply_text)\n",
        "        else:\n",
        "            line_bot_api.reply_message_with_http_info(\n",
        "                ReplyMessageRequest(\n",
        "                    reply_token=event.reply_token,\n",
        "                    messages=[TextMessage(text=event.message.text),\n",
        "                        TextMessage(text=event.message.text)]\n",
        "                )\n",
        "            )\n",
        "\n",
        "\n",
        "@handler.add(MessageEvent, message=StickerMessageContent)\n",
        "def handle_sticker_message(event):\n",
        "    with ApiClient(configuration) as api_client:\n",
        "        line_bot_api = MessagingApi(api_client)\n",
        "        line_bot_api.reply_message(\n",
        "            ReplyMessageRequest(\n",
        "                reply_token=event.reply_token,\n",
        "                messages=[StickerMessage(\n",
        "                    package_id=event.message.package_id,\n",
        "                    sticker_id=event.message.sticker_id)\n",
        "                ]\n",
        "            )\n",
        "        )\n",
        "\n",
        "@handler.add(MessageEvent, message=LocationMessageContent)\n",
        "def handle_location_message(event):\n",
        "    with ApiClient(configuration) as api_client:\n",
        "        line_bot_api = MessagingApi(api_client)\n",
        "        line_bot_api.reply_message(\n",
        "            ReplyMessageRequest(\n",
        "                reply_token=event.reply_token,\n",
        "                messages=[LocationMessage(\n",
        "                    title='定位訊息',\n",
        "                    address=event.message.address,\n",
        "                    latitude=event.message.latitude,\n",
        "                    longitude=event.message.longitude\n",
        "                )]\n",
        "            )\n",
        "        )\n",
        "\n",
        "if __name__ == \"__main__\":\n",
        "    app.run(port=port)"
      ]
    }
  ],
  "metadata": {
    "colab": {
      "provenance": []
    },
    "kernelspec": {
      "display_name": "linebot",
      "language": "python",
      "name": "python3"
    },
    "language_info": {
      "codemirror_mode": {
        "name": "ipython",
        "version": 3
      },
      "file_extension": ".py",
      "mimetype": "text/x-python",
      "name": "python",
      "nbconvert_exporter": "python",
      "pygments_lexer": "ipython3",
      "version": "3.12.3"
    }
  },
  "nbformat": 4,
  "nbformat_minor": 0
}